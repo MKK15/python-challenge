{
 "cells": [
  {
   "cell_type": "code",
   "execution_count": 1,
   "metadata": {
    "collapsed": true
   },
   "outputs": [],
   "source": [
    "# State dictionary\n",
    "us_state_abbrev = {\n",
    "    'Alabama': 'AL',\n",
    "    'Alaska': 'AK',\n",
    "    'Arizona': 'AZ',\n",
    "    'Arkansas': 'AR',\n",
    "    'California': 'CA',\n",
    "    'Colorado': 'CO',\n",
    "    'Connecticut': 'CT',\n",
    "    'Delaware': 'DE',\n",
    "    'Florida': 'FL',\n",
    "    'Georgia': 'GA',\n",
    "    'Hawaii': 'HI',\n",
    "    'Idaho': 'ID',\n",
    "    'Illinois': 'IL',\n",
    "    'Indiana': 'IN',\n",
    "    'Iowa': 'IA',\n",
    "    'Kansas': 'KS',\n",
    "    'Kentucky': 'KY',\n",
    "    'Louisiana': 'LA',\n",
    "    'Maine': 'ME',\n",
    "    'Maryland': 'MD',\n",
    "    'Massachusetts': 'MA',\n",
    "    'Michigan': 'MI',\n",
    "    'Minnesota': 'MN',\n",
    "    'Mississippi': 'MS',\n",
    "    'Missouri': 'MO',\n",
    "    'Montana': 'MT',\n",
    "    'Nebraska': 'NE',\n",
    "    'Nevada': 'NV',\n",
    "    'New Hampshire': 'NH',\n",
    "    'New Jersey': 'NJ',\n",
    "    'New Mexico': 'NM',\n",
    "    'New York': 'NY',\n",
    "    'North Carolina': 'NC',\n",
    "    'North Dakota': 'ND',\n",
    "    'Ohio': 'OH',\n",
    "    'Oklahoma': 'OK',\n",
    "    'Oregon': 'OR',\n",
    "    'Pennsylvania': 'PA',\n",
    "    'Rhode Island': 'RI',\n",
    "    'South Carolina': 'SC',\n",
    "    'South Dakota': 'SD',\n",
    "    'Tennessee': 'TN',\n",
    "    'Texas': 'TX',\n",
    "    'Utah': 'UT',\n",
    "    'Vermont': 'VT',\n",
    "    'Virginia': 'VA',\n",
    "    'Washington': 'WA',\n",
    "    'West Virginia': 'WV',\n",
    "    'Wisconsin': 'WI',\n",
    "    'Wyoming': 'WY',\n",
    "}"
   ]
  },
  {
   "cell_type": "code",
   "execution_count": 2,
   "metadata": {
    "collapsed": true
   },
   "outputs": [],
   "source": [
    "import csv\n",
    "import os"
   ]
  },
  {
   "cell_type": "code",
   "execution_count": 3,
   "metadata": {
    "collapsed": true
   },
   "outputs": [],
   "source": [
    "employees_csv1 = os.path.join(\"raw_data\", \"employee_data1.csv\")\n",
    "employees_csv2 = os.path.join(\"raw_data\", \"employee_data2.csv\")"
   ]
  },
  {
   "cell_type": "code",
   "execution_count": 4,
   "metadata": {
    "collapsed": true
   },
   "outputs": [],
   "source": [
    "with open(employees_csv1, 'r',newline=\"\") as file:\n",
    "    has_header = csv.Sniffer().has_header(file.read(1024))\n",
    "    file.seek(0)  # Rewind.\n",
    "    reader = csv.reader(file, delimiter=\",\")\n",
    "    if has_header:\n",
    "        next(reader)  # Skip header row.\n",
    "        \n",
    "    emp_id= []\n",
    "    emp_name= []\n",
    "    emp_dob= []\n",
    "    emp_ssn= []\n",
    "    emp_state= []\n",
    "    \n",
    "    for row in reader:\n",
    "        emp_id.append(row[0])\n",
    "        emp_name.append(row[1])\n",
    "        emp_dob.append(row[2])\n",
    "        emp_ssn.append(row[3])\n",
    "        emp_state.append(row[4])\n",
    "        \n",
    "        "
   ]
  },
  {
   "cell_type": "code",
   "execution_count": 28,
   "metadata": {},
   "outputs": [],
   "source": [
    "# combine \n",
    "with open(employees_csv2, 'r') as file:\n",
    "    has_header = csv.Sniffer().has_header(file.read(1024))\n",
    "    file.seek(0)  # Rewind.\n",
    "    reader = csv.reader(file, delimiter=\",\")\n",
    "    if has_header:\n",
    "        next(reader)  # Skip header row.\n",
    "    \n",
    "    for row in reader:\n",
    "        emp_id.append(row[0])\n",
    "        emp_name.append(row[1])\n",
    "        emp_dob.append(row[2])\n",
    "        emp_ssn.append(row[3])\n",
    "        emp_state.append(row[4])\n"
   ]
  },
  {
   "cell_type": "code",
   "execution_count": 19,
   "metadata": {},
   "outputs": [],
   "source": [
    "# Split names\n",
    "first_name= []\n",
    "last_name= []\n",
    "\n",
    "for fullName in emp_name:\n",
    "    \n",
    "    space_break= fullName.index(\" \")\n",
    "    \n",
    "    chopFirst= fullName[:space_break]\n",
    "    first_name.append(chopFirst)\n",
    "    \n",
    "    chopLast=fullName[space_break+1:]\n",
    "    last_name.append(chopLast)\n",
    "    \n",
    "#### How to account for non-two-part names? ####"
   ]
  },
  {
   "cell_type": "code",
   "execution_count": 20,
   "metadata": {
    "collapsed": true
   },
   "outputs": [],
   "source": [
    "# Covert DOB\n",
    "new_dob=[]\n",
    "\n",
    "for dob in emp_dob:\n",
    "    dob.replace(\"-\",\"/\")\n",
    "    new_dob.append(dob)"
   ]
  },
  {
   "cell_type": "code",
   "execution_count": 29,
   "metadata": {
    "collapsed": true
   },
   "outputs": [],
   "source": [
    "# Convert SSN\n",
    "new_ssn=[]\n",
    "\n",
    "for ssn in emp_ssn:\n",
    "    ssn = (ssn[:0] + \"***-**-\" + ssn[7:])\n",
    "    new_ssn.append(ssn)"
   ]
  },
  {
   "cell_type": "code",
   "execution_count": 22,
   "metadata": {},
   "outputs": [],
   "source": [
    "# Convert State\n",
    "new_state= []\n",
    "\n",
    "for state in emp_state:\n",
    "    state= us_state_abbrev[state]\n",
    "    new_state.append(state)"
   ]
  },
  {
   "cell_type": "code",
   "execution_count": 31,
   "metadata": {
    "collapsed": true
   },
   "outputs": [],
   "source": [
    "# Zip lists together\n",
    "#cleaned_csv= zip(emp_id,first_name,last_name,clean_dob,emp_ssn,clean_state)\n",
    "cleaned_csv= zip(emp_id,first_name,last_name,new_dob,new_ssn,new_state) \n",
    "\n",
    "# Set variable for output file\n",
    "output_file = os.path.join(\"PyBoss_final.csv\")\n",
    "\n",
    "#  Open the output file\n",
    "with open(output_file, \"w\", newline=\"\") as datafile:\n",
    "    writer = csv.writer(datafile, delimiter=\",\")\n",
    "    \n",
    "     # Write the header row\n",
    "    writer.writerow([\"Emp ID\",\"First Name\",\"Last Name\",\"DOB\",\"SSN\",\"State\"])  \n",
    "\n",
    "    # Write in zipped rows\n",
    "    writer.writerows(cleaned_csv)"
   ]
  }
 ],
 "metadata": {
  "kernelspec": {
   "display_name": "Python 3",
   "language": "python",
   "name": "python3"
  },
  "language_info": {
   "codemirror_mode": {
    "name": "ipython",
    "version": 3
   },
   "file_extension": ".py",
   "mimetype": "text/x-python",
   "name": "python",
   "nbconvert_exporter": "python",
   "pygments_lexer": "ipython3",
   "version": "3.6.3"
  }
 },
 "nbformat": 4,
 "nbformat_minor": 2
}
