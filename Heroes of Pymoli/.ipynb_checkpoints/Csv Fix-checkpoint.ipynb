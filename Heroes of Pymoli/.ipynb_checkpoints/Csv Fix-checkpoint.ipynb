{
 "cells": [
  {
   "cell_type": "code",
   "execution_count": null,
   "metadata": {
    "collapsed": true
   },
   "outputs": [],
   "source": [
    "import pandas as pd\n",
    "import numpy as np\n",
    "import csv\n",
    "import os"
   ]
  },
  {
   "cell_type": "code",
   "execution_count": null,
   "metadata": {
    "collapsed": true
   },
   "outputs": [],
   "source": [
    "sn= []\n",
    "age= []\n",
    "gender= []\n",
    "itemid= []\n",
    "itemname= []\n",
    "price= []\n",
    "\n",
    "csv1= os.path.join(\"Resources/purchase_data.csv\")\n",
    "csv2=  os.path.join(\"Resources/purchase_data2.csv\")\n",
    "\n",
    "with open(csv1,\"r\", newline=\"\") as csvfile:\n",
    "    csvreader= csv.reader(csvfile, delimiter=\",\")\n",
    "    for row in csvreader:\n",
    "        sn.append(row[0])\n",
    "        age.append(row[1])\n",
    "        gender.append(row[2])\n",
    "        itemid.append(row[3])\n",
    "        itemname.append(row[4])\n",
    "        price.append(row[5])\n",
    "        \n",
    "with open(csv2,\"r\", newline=\"\") as csvfile:\n",
    "    csvreader= csv.reader(csvfile, delimiter=\",\")\n",
    "    next(csvreader)\n",
    "    for row in csvreader:\n",
    "        sn.append(row[0])\n",
    "        age.append(row[1])\n",
    "        gender.append(row[2])\n",
    "        itemid.append(row[3])\n",
    "        itemname.append(row[4])\n",
    "        price.append(row[5])\n",
    "        \n",
    "# Zip lists together\n",
    "zipped_csv = zip(sn, age, gender, itemid, itemname, price)\n",
    "\n",
    "# Set variable for output file\n",
    "output_file = os.path.join(\"heroes.csv\")\n",
    "\n",
    "with open(output_file, \"w\", newline=\"\") as datafile:\n",
    "    writer = csv.writer(datafile)\n",
    "\n",
    "    # Write in zipped rows\n",
    "    writer.writerows(zipped_csv)"
   ]
  }
 ],
 "metadata": {
  "kernelspec": {
   "display_name": "Python 3",
   "language": "python",
   "name": "python3"
  },
  "language_info": {
   "codemirror_mode": {
    "name": "ipython",
    "version": 3
   },
   "file_extension": ".py",
   "mimetype": "text/x-python",
   "name": "python",
   "nbconvert_exporter": "python",
   "pygments_lexer": "ipython3",
   "version": "3.6.3"
  }
 },
 "nbformat": 4,
 "nbformat_minor": 2
}
