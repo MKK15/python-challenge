{
 "cells": [
  {
   "cell_type": "code",
   "execution_count": 1,
   "metadata": {},
   "outputs": [
    {
     "ename": "ModuleNotFoundError",
     "evalue": "No module named 'citipy'",
     "output_type": "error",
     "traceback": [
      "\u001b[1;31m---------------------------------------------------------------------------\u001b[0m",
      "\u001b[1;31mModuleNotFoundError\u001b[0m                       Traceback (most recent call last)",
      "\u001b[1;32m<ipython-input-1-a5b034b9a008>\u001b[0m in \u001b[0;36m<module>\u001b[1;34m()\u001b[0m\n\u001b[0;32m      3\u001b[0m \u001b[1;32mimport\u001b[0m \u001b[0mnumpy\u001b[0m \u001b[1;32mas\u001b[0m \u001b[0mnp\u001b[0m\u001b[1;33m\u001b[0m\u001b[0m\n\u001b[0;32m      4\u001b[0m \u001b[1;32mimport\u001b[0m \u001b[0mcsv\u001b[0m\u001b[1;33m\u001b[0m\u001b[0m\n\u001b[1;32m----> 5\u001b[1;33m \u001b[1;32mfrom\u001b[0m \u001b[0mcitipy\u001b[0m \u001b[1;32mimport\u001b[0m \u001b[0mcitipy\u001b[0m \u001b[1;32mas\u001b[0m \u001b[0mcp\u001b[0m\u001b[1;33m\u001b[0m\u001b[0m\n\u001b[0m\u001b[0;32m      6\u001b[0m \u001b[1;32mimport\u001b[0m \u001b[0mmatplotlib\u001b[0m\u001b[1;33m.\u001b[0m\u001b[0mpyplot\u001b[0m \u001b[1;32mas\u001b[0m \u001b[0mplt\u001b[0m\u001b[1;33m\u001b[0m\u001b[0m\n\u001b[0;32m      7\u001b[0m \u001b[1;32mimport\u001b[0m \u001b[0mrequests\u001b[0m \u001b[1;32mas\u001b[0m \u001b[0mreq\u001b[0m\u001b[1;33m\u001b[0m\u001b[0m\n",
      "\u001b[1;31mModuleNotFoundError\u001b[0m: No module named 'citipy'"
     ]
    }
   ],
   "source": [
    "import json\n",
    "import pandas as pd\n",
    "import numpy as np\n",
    "import csv\n",
    "from citipy import citipy as cp\n",
    "import matplotlib.pyplot as plt\n",
    "import requests as req\n",
    "from random import *\n",
    "import seaborn"
   ]
  },
  {
   "cell_type": "code",
   "execution_count": null,
   "metadata": {
    "collapsed": true
   },
   "outputs": [],
   "source": [
    "api_key = \"b71c226b6a8579c4a0d0fbe47b3c0297\"\n",
    "url = \"http://api.openweathermap.org/data/2.5/weather?\"\n",
    "units = \"Imperial\"\n",
    "\n",
    "selected_cities = cities_pd.sample(n=500)\n",
    "selected_cities['Latitude'].max()\n",
    "\n",
    "#testing citipy\n",
    "#city = cp.nearest_city(22.99, 120.21)\n",
    "city = cp.nearest_city(0,0)\n",
    "city.city_name"
   ]
  },
  {
   "cell_type": "code",
   "execution_count": null,
   "metadata": {
    "collapsed": true
   },
   "outputs": [],
   "source": [
    "#Checking cities used by citipy. Code not used anywhere else\n",
    "cities_pd = pd.read_csv(\"worldcitiespop.csv\",  encoding = \"iso-8859-1\")\n",
    "#iso-8859-1\n",
    "#utf-8\n",
    "#utf-16\n",
    "#windows-1252\n",
    "selected_cities = cities_pd.sample(n=500)\n",
    "selected_cities['Latitude'].max()\n",
    "\n",
    "#testing citipy\n",
    "#city = cp.nearest_city(22.99, 120.21)\n",
    "city = cp.nearest_city(0,0)\n",
    "city.city_name"
   ]
  },
  {
   "cell_type": "code",
   "execution_count": null,
   "metadata": {
    "collapsed": true
   },
   "outputs": [],
   "source": [
    "selected_cities=pd.DataFrame()\n",
    "selected_cities"
   ]
  },
  {
   "cell_type": "code",
   "execution_count": null,
   "metadata": {
    "collapsed": true
   },
   "outputs": [],
   "source": [
    "\n",
    "selected_cities[\"Lat\"]=\"\"\n",
    "selected_cities[\"Lng\"]=\"\"\n",
    "selected_cities[\"city\"]=\"\"\n",
    "selected_cities[\"Temperature\"]=\"\"\n",
    "selected_cities[\"Humidity\"]=\"\"\n",
    "selected_cities[\"Cloudiness\"]=\"\"\n",
    "selected_cities[\"WindSpeed\"]=\"\""
   ]
  },
  {
   "cell_type": "code",
   "execution_count": null,
   "metadata": {
    "collapsed": true
   },
   "outputs": [],
   "source": [
    "for i in range(500):\n",
    "    lat= randint(-30, 70)\n",
    "    lng=lat*uniform(-1.5, 1.5)\n",
    "    print(\"lat :\" + str(lat))\n",
    "    print(\"lng :\" + str(lng))\n",
    "    selected_cities.set_value(i, \"Lat\",lat)\n",
    "    selected_cities.set_value(i, \"Lng\",lng)\n",
    "    city = cp.nearest_city(lat,lng).city_name\n",
    "    print (\"city is :\" + city)\n",
    "    selected_cities.set_value(i, \"City\",city)\n",
    "    # Build query URL\n",
    "    query_url = url + \"appid=\" + api_key + \"&units=imperial\"+ \"&q=\" + city\n",
    "    print(\"city # : \" + str(i) + \" city name: \"+ city + \" URL: \" + query_url)\n",
    "    # Get weather data\n",
    "    weather_response = req.get(query_url)\n",
    "    weather_json = weather_response.json()\n",
    "    #print(json.dumps(weather_json, indent=4, sort_keys=True))\n",
    "    try:\n",
    "        selected_cities.set_value(i, \"Temperature\", weather_json[\"main\"][\"temp\"])\n",
    "        selected_cities.set_value(i, \"Humidity\", weather_json[\"main\"][\"humidity\"])\n",
    "        selected_cities.set_value(i, \"Cloudiness\", weather_json[\"clouds\"][\"all\"])\n",
    "        selected_cities.set_value(i, \"WindSpeed\", weather_json[\"wind\"][\"speed\"])  \n",
    "    except:\n",
    "        print(\"Error with city data. Skipping record #\" + str(i))\n",
    "        print(\"Error message:\" + weather_json['message'])\n",
    "        continue\n",
    "    \n",
    "selected_cities.head(10)"
   ]
  },
  {
   "cell_type": "code",
   "execution_count": null,
   "metadata": {
    "collapsed": true
   },
   "outputs": [],
   "source": [
    "selected_cities_withdata= selected_cities[selected_cities['Temperature']!=\"\"]\n",
    "len(selected_cities_withdata)"
   ]
  },
  {
   "cell_type": "code",
   "execution_count": null,
   "metadata": {
    "collapsed": true
   },
   "outputs": [],
   "source": [
    "\n",
    "# Build a scatter plot for Temperateure vs Latitude\n",
    "plt.scatter(selected_cities_withdata[\"Lat\"], \n",
    "            selected_cities_withdata[\"Temperature\"],\n",
    "            edgecolor=\"black\", linewidths=1, marker=\"o\", \n",
    "            alpha=0.8, label=\"TemperatureLabel\")\n",
    "\n",
    "# Incorporate the other graph properties\n",
    "plt.title(\"Temperature (F) vs Latitude\")\n",
    "plt.ylabel(\"Temperature\")\n",
    "plt.xlabel(\"Latitude\")\n",
    "plt.grid(True)\n",
    "#plt.xlim([-2.5, 202])\n",
    "#plt.ylim([-2.5, 110000])\n",
    "\n",
    "# Save the figure\n",
    "plt.savefig(\"TempVsLat.png\")\n",
    "\n",
    "# Show plot\n",
    "plt.show()\n"
   ]
  },
  {
   "cell_type": "code",
   "execution_count": null,
   "metadata": {
    "collapsed": true
   },
   "outputs": [],
   "source": [
    "\n",
    "# Build a scatter plot for Clodiness vs Latitude\n",
    "plt.scatter(selected_cities_withdata[\"Lat\"], \n",
    "            selected_cities_withdata[\"Cloudiness\"],\n",
    "            edgecolor=\"black\", linewidths=1, marker=\"o\", \n",
    "            alpha=0.8, label=\"CoudinessLabel\")\n",
    "\n",
    "# Incorporate the other graph properties\n",
    "plt.title(\"Cloudiness (%) vs Latitude\")\n",
    "plt.ylabel(\"Cloudiness\")\n",
    "plt.xlabel(\"Latitude\")\n",
    "plt.grid(True)\n",
    "\n",
    "#Save png\n",
    "plt.savefig(\"CloudinessVsLat.png\")\n",
    "\n",
    "#Show plot\n",
    "plt.show()"
   ]
  },
  {
   "cell_type": "code",
   "execution_count": null,
   "metadata": {
    "collapsed": true
   },
   "outputs": [],
   "source": [
    "# Build a scatter plot for WindSpeed vs Latitude\n",
    "plt.scatter(selected_cities_withdata[\"Lat\"], \n",
    "            selected_cities_withdata[\"WindSpeed\"],\n",
    "            edgecolor=\"black\", linewidths=1, marker=\"o\", \n",
    "            alpha=0.8, label=\"WindSpeedLabel\")\n",
    "\n",
    "# Incorporate the other graph properties\n",
    "plt.title(\"Wind Speed (mph) vs. Latitude\")\n",
    "plt.ylabel(\"WindSpeed\")\n",
    "plt.xlabel(\"Latitude\")\n",
    "plt.grid(True)\n",
    "\n",
    "#Save png\n",
    "plt.savefig(\"WindSpeedVsLat.png\")\n",
    "\n",
    "#Show plot\n",
    "plt.show()"
   ]
  },
  {
   "cell_type": "code",
   "execution_count": null,
   "metadata": {
    "collapsed": true
   },
   "outputs": [],
   "source": []
  }
 ],
 "metadata": {
  "kernelspec": {
   "display_name": "Python 3",
   "language": "python",
   "name": "python3"
  },
  "language_info": {
   "codemirror_mode": {
    "name": "ipython",
    "version": 3
   },
   "file_extension": ".py",
   "mimetype": "text/x-python",
   "name": "python",
   "nbconvert_exporter": "python",
   "pygments_lexer": "ipython3",
   "version": "3.6.3"
  }
 },
 "nbformat": 4,
 "nbformat_minor": 2
}
